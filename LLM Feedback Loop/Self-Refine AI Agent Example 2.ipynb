{
 "cells": [
  {
   "cell_type": "code",
   "execution_count": 4,
   "id": "d2b3506a",
   "metadata": {},
   "outputs": [],
   "source": [
    "# !uv pip install langchain langgraph requests langchain-google-genai pygraphviz"
   ]
  },
  {
   "cell_type": "markdown",
   "id": "c6ebdf37",
   "metadata": {},
   "source": [
    "### Setup and Dependencies"
   ]
  },
  {
   "cell_type": "code",
   "execution_count": 5,
   "id": "8dcb664e",
   "metadata": {},
   "outputs": [],
   "source": [
    "import os\n",
    "from typing import TypedDict, Optional\n",
    "\n",
    "from langchain_google_genai import ChatGoogleGenerativeAI\n",
    "from langchain_core.prompts import ChatPromptTemplate\n",
    "\n",
    "from langgraph.graph import StateGraph, END\n",
    "\n",
    "# Set your Google API key (replace with your actual key or load from .env)\n",
    "os.environ[\"GOOGLE_API_KEY\"] = \"\"\n",
    "\n",
    "# Initialize the Gemini model we'll use for all nodes\n",
    "llm = ChatGoogleGenerativeAI(model=\"gemini-2.5-flash\", temperature=0)"
   ]
  },
  {
   "cell_type": "markdown",
   "id": "92037bb3",
   "metadata": {},
   "source": [
    "### Define AI Agent's State"
   ]
  },
  {
   "cell_type": "code",
   "execution_count": 6,
   "id": "43b713b8",
   "metadata": {},
   "outputs": [],
   "source": [
    "class AgentState(TypedDict, total=False):\n",
    "    query: str\n",
    "    answer: Optional[str]\n",
    "    critique: Optional[str]\n",
    "    refined: Optional[str]\n",
    "    decision: Optional[str]"
   ]
  },
  {
   "cell_type": "markdown",
   "id": "88023e74",
   "metadata": {},
   "source": [
    "### Define Prompts"
   ]
  },
  {
   "cell_type": "code",
   "execution_count": 7,
   "id": "1f17aeb1",
   "metadata": {},
   "outputs": [],
   "source": [
    "generate_prompt = ChatPromptTemplate.from_template(\n",
    "    \"You are a helpful assistant. Answer the following query:\\n\\n{query}\"\n",
    ")\n",
    "\n",
    "reflect_prompt = ChatPromptTemplate.from_template(\n",
    "    \"Here is the assistant's answer:\\n\\n{answer}\\n\\nPlease critique it and suggest improvements.\"\n",
    ")\n",
    "\n",
    "refine_prompt = ChatPromptTemplate.from_template(\n",
    "    \"Original answer:\\n{answer}\\n\\nCritique:\\n{critique}\\n\\nPlease provide a refined, improved answer.\"\n",
    ")\n",
    "\n",
    "decision_prompt = ChatPromptTemplate.from_template(\n",
    "    \"Here is the latest refined answer:\\n\\n{refined}\\n\\n\"\n",
    "    \"Question: Is this answer sufficient and high-quality? \"\n",
    "    \"Reply with only one word: 'yes' or 'no'.\"\n",
    ")\n",
    "\n",
    "# Chains together\n",
    "generate_chain = generate_prompt | llm\n",
    "reflect_chain = reflect_prompt | llm\n",
    "refine_chain = refine_prompt | llm\n",
    "decision_chain = decision_prompt | llm"
   ]
  },
  {
   "cell_type": "markdown",
   "id": "4abb9cf8",
   "metadata": {},
   "source": [
    "### Define Node Function"
   ]
  },
  {
   "cell_type": "code",
   "execution_count": 8,
   "id": "e66c0cc9",
   "metadata": {},
   "outputs": [],
   "source": [
    "def generate_node(state: AgentState):\n",
    "    result = generate_chain.invoke({\"query\": state[\"query\"]})\n",
    "    state[\"answer\"] = result.content\n",
    "    return state\n",
    "\n",
    "def reflect_node(state: AgentState):\n",
    "    result = reflect_chain.invoke({\"answer\": state[\"answer\"]})\n",
    "    state[\"critique\"] = result.content\n",
    "    return state\n",
    "\n",
    "def refine_node(state: AgentState):\n",
    "    result = refine_chain.invoke({\n",
    "        \"answer\": state[\"answer\"],\n",
    "        \"critique\": state[\"critique\"]\n",
    "    })\n",
    "    state[\"refined\"] = result.content\n",
    "    return state\n",
    "\n",
    "def decide_node(state: AgentState):\n",
    "    result = decision_chain.invoke({\"refined\": state[\"refined\"]})\n",
    "    state[\"decision\"] = result.content.strip().lower()\n",
    "    return state\n",
    "\n",
    "def decide_next(state: AgentState):\n",
    "    if state.get(\"decision\") == \"yes\":\n",
    "        return END\n",
    "    else:\n",
    "        return \"reflect\""
   ]
  },
  {
   "cell_type": "markdown",
   "id": "e7d7082f",
   "metadata": {},
   "source": [
    "### Build Graph"
   ]
  },
  {
   "cell_type": "code",
   "execution_count": 10,
   "id": "ea6ab960",
   "metadata": {},
   "outputs": [],
   "source": [
    "graph = StateGraph(AgentState)\n",
    "\n",
    "# Add Node\n",
    "graph.add_node(\"generate\", generate_node)\n",
    "graph.add_node(\"reflect\", reflect_node)\n",
    "graph.add_node(\"refine\", refine_node)\n",
    "graph.add_node(\"decide\", decide_node)\n",
    "\n",
    "# Set Entry Node\n",
    "graph.set_entry_point(\"generate\")\n",
    "\n",
    "# Connect Node (Add a Arrow to connect A Node and B Node)\n",
    "## \"Generate\" --> \"Reflect\"\n",
    "graph.add_edge(\"generate\", \"reflect\")\n",
    "## \"Reflect\" --> \"Refine\"\n",
    "graph.add_edge(\"reflect\", \"refine\")\n",
    "## \"Refine\" --> \"decide\"\n",
    "graph.add_edge(\"refine\", \"decide\")\n",
    "\n",
    "# Conditional edge from \"decide\"\n",
    "graph.add_conditional_edges(\"decide\", decide_next)\n",
    "\n",
    "# Compile\n",
    "app = graph.compile()"
   ]
  },
  {
   "cell_type": "markdown",
   "id": "94859c56",
   "metadata": {},
   "source": [
    "### Run Agent"
   ]
  },
  {
   "cell_type": "code",
   "execution_count": null,
   "id": "7831c601",
   "metadata": {},
   "outputs": [
    {
     "name": "stdout",
     "output_type": "stream",
     "text": [
      "Output from node 'generate':\n",
      "Why the image classifier have high accuracy but it fail to fulfill my expectation in classifying image. Please state in concise.\n",
      "High accuracy is typically on a specific test set. Your model likely suffers from **poor generalization** or a **mismatch between its training data and your real-world application's diverse or specific image conditions.**\n",
      "\n",
      "Output from node 'reflect':\n",
      "The assistant's answer correctly identifies the core issues: **poor generalization** and a **mismatch between training and real-world data**. These are indeed the most common reasons for a model performing well on a test set but failing in production.\n",
      "\n",
      "However, the answer is quite concise and could be significantly improved by:\n",
      "\n",
      "1.  **Elaborating on the concepts:** Briefly explaining *what* poor generalization and data mismatch mean.\n",
      "2.  **Providing actionable next steps/solutions:** The user is left with a diagnosis but no guidance on how to fix it.\n",
      "3.  **Offering to ask for more information:** To give more tailored advice.\n",
      "4.  **Improving the tone:** Making it slightly less blunt and more helpful.\n",
      "\n",
      "---\n",
      "\n",
      "### Critique:\n",
      "\n",
      "**Strengths:**\n",
      "\n",
      "*   **Correct Diagnosis:** Accurately pinpoints the fundamental problems (poor generalization, data mismatch).\n",
      "*   **Concise:** Gets straight to the point.\n",
      "*   **Highlights Key Terms:** Bolded terms are important concepts.\n",
      "\n",
      "**Weaknesses:**\n",
      "\n",
      "*   **Lack of Elaboration:** Doesn't explain *why* these issues occur or what they practically entail.\n",
      "*   **No Solutions/Next Steps:** This is the biggest gap. A user facing this problem needs guidance on how to proceed.\n",
      "*   **No Request for More Information:** Without knowing the specific application, image types, or model, the advice can only be generic. Asking for more details would allow for more targeted suggestions.\n",
      "*   **Slightly Blunt Tone:** While directness can be good, it could be softened with a more empathetic and guiding approach.\n",
      "\n",
      "---\n",
      "\n",
      "### Suggested Improvements:\n",
      "\n",
      "Here's an improved version that addresses the weaknesses:\n",
      "\n",
      "---\n",
      "\n",
      "**Improved Assistant's Answer:**\n",
      "\n",
      "\"You've hit on a very common and frustrating problem in machine learning! Your observation that the model has high accuracy on a test set but performs poorly in the real world strongly indicates two related issues:\n",
      "\n",
      "1.  **Poor Generalization (often due to Overfitting):** Your model has likely learned to perform exceptionally well on the specific patterns and noise present in your training and test data, but it hasn't learned the underlying, broader concepts that allow it to perform well on *unseen, real-world* variations. It's memorized the answers rather than understanding the subject.\n",
      "2.  **Mismatch Between Training Data and Real-World Conditions (Domain Shift):** The images your model encounters in the real world are likely significantly different from those it was trained on. This could be due to:\n",
      "    *   **Different Lighting:** Varying brightness, shadows, glare.\n",
      "    *   **Different Angles/Perspectives:** Objects appearing from new viewpoints.\n",
      "    *   **Background Clutter/Occlusions:** More distractions or partial blockages.\n",
      "    *   **Image Quality:** Different resolutions, compression artifacts, noise levels.\n",
      "    *   **New Object Variations:** Subtle differences in the objects themselves that weren't in the training set.\n",
      "    *   **Environmental Factors:** Weather, time of day, different camera sensors.\n",
      "\n",
      "**To address this, here are several strategies you can explore:**\n",
      "\n",
      "**1. Data-Centric Solutions (Most Impactful):**\n",
      "\n",
      "*   **Expand and Diversify Your Training Data:** This is often the most effective solution. Collect more real-world images that truly represent the diverse conditions your model will encounter in production. Focus on edge cases where your model currently fails.\n",
      "*   **Robust Data Augmentation:** Apply a wider range of transformations to your existing training data (e.g., random rotations, shifts, zooms, brightness changes, contrast adjustments, adding noise, blurring, color jitter, cutmix/mixup). This helps the model see more variations without needing to collect entirely new images.\n",
      "*   **Domain Adaptation / Transfer Learning:** If you have a small amount of real-world data, fine-tune your pre-trained model on this specific real-world dataset. This helps the model adapt to the new domain.\n",
      "*   **Synthetic Data Generation:** If real data collection is hard, explore generating synthetic data that mimics real-world conditions, though this can be complex to do effectively.\n",
      "\n",
      "**2. Model-Centric Solutions:**\n",
      "\n",
      "*   **Regularization Techniques:** Implement or increase regularization (e.g., Dropout, L1/L2 regularization) during training. This discourages the model from becoming too complex and memorizing the training data.\n",
      "*   **Simpler Model Architecture:** Sometimes, a simpler model with fewer parameters generalizes better than an overly complex one, especially with limited data.\n",
      "*   **Feature Engineering (if applicable):** If you're not using end-to-end deep learning, carefully engineered features that are robust to real-world variations can help.\n",
      "\n",
      "**3. Evaluation-Centric Solutions:**\n",
      "\n",
      "*   **Create a Representative Test Set:** Ensure your test set accurately reflects the diversity and challenges of your real-world application. It should include images from the \"problematic\" conditions.\n",
      "*   **Perform Error Analysis:** Don't just look at overall accuracy. Analyze the specific types of images and conditions where your model fails in the real world. This will guide your data collection and augmentation efforts.\n",
      "*   **Cross-Validation:** Use k-fold cross-validation during development to get a more robust estimate of your model's performance and generalization ability.\n",
      "\n",
      "**To give you more specific advice, could you tell me a bit more about:**\n",
      "\n",
      "*   **What kind of images are you working with?** (e.g., medical, industrial, natural scenes, faces)\n",
      "*   **What is the specific task?** (e.g., classification, object detection, segmentation)\n",
      "*   **What are the typical differences between your training data and the real-world images?**\n",
      "*   **What model architecture are you using?**\"\n",
      "\n",
      "---\n",
      "\n",
      "**Why this is better:**\n",
      "\n",
      "*   **Explains the \"Why\":** Users understand *what* poor generalization and domain shift mean in practical terms.\n",
      "*   **Provides Actionable Steps:** Offers concrete, categorized solutions that the user can immediately start investigating.\n",
      "*   **Prioritizes Solutions:** Starts with data-centric solutions, which are often the most impactful for this problem.\n",
      "*   **Asks for More Information:** Shows a willingness to provide tailored advice and guides the user on what details would be helpful.\n",
      "*   **Improved Tone:** More helpful, diagnostic, and guiding.\n",
      "*   **Structured for Readability:** Uses bullet points and bolding to make the information easy to digest.\n",
      "\n",
      "Output from node 'refine':\n",
      "You've hit on a very common and often frustrating problem in machine learning! Your observation that the model has high accuracy on a specific test set but performs poorly in the real world strongly indicates two related core issues:\n",
      "\n",
      "1.  **Poor Generalization (often due to Overfitting):** Your model has likely learned to perform exceptionally well on the specific patterns, features, and even noise present in your training and test data. However, it hasn't learned the underlying, broader concepts that allow it to perform robustly on *unseen, real-world* variations. Think of it as memorizing answers rather than truly understanding the subject.\n",
      "\n",
      "2.  **Mismatch Between Training Data and Real-World Conditions (Domain Shift):** The images your model encounters in the real world are likely significantly different from those it was trained on. This \"shift\" in data distribution can be caused by various factors:\n",
      "    *   **Environmental Differences:** Varying lighting (brightness, shadows, glare), weather conditions, time of day.\n",
      "    *   **Perspective & Pose:** Objects appearing from different angles, distances, or orientations.\n",
      "    *   **Background Clutter/Occlusions:** More distractions, partial blockages, or complex backgrounds in real-world scenes.\n",
      "    *   **Image Quality:** Different resolutions, compression artifacts, sensor noise, blur, or focus issues.\n",
      "    *   **Object Variations:** Subtle differences in the objects themselves (e.g., different brands, wear and tear) that weren't represented in the training set.\n",
      "    *   **Camera/Sensor Differences:** Images captured by different types of cameras or sensors can have distinct characteristics.\n",
      "\n",
      "**To address this, here are several strategies you can explore, starting with the most impactful:**\n",
      "\n",
      "### 1. Data-Centric Solutions (Often the Most Effective)\n",
      "\n",
      "*   **Expand and Diversify Your Training Data:** This is frequently the most powerful solution. Collect more real-world images that truly represent the diverse conditions your model will encounter in production. Focus specifically on \"edge cases\" or scenarios where your model currently fails.\n",
      "*   **Robust Data Augmentation:** Apply a wider and more realistic range of transformations to your existing training data (e.g., random rotations, shifts, zooms, brightness changes, contrast adjustments, adding noise, blurring, color jitter, cutmix/mixup). This helps the model see more variations without needing to collect entirely new images.\n",
      "*   **Domain Adaptation / Transfer Learning:** If you have a small amount of real-world data, fine-tune your pre-trained model on this specific real-world dataset. This helps the model adapt to the new domain's characteristics.\n",
      "*   **Synthetic Data Generation:** If real data collection is difficult or expensive, explore generating synthetic data that closely mimics real-world conditions, though this can be complex to do effectively.\n",
      "\n",
      "### 2. Model-Centric Solutions\n",
      "\n",
      "*   **Regularization Techniques:** Implement or increase regularization (e.g., Dropout, L1/L2 regularization) during training. This discourages the model from becoming too complex and memorizing the training data, promoting better generalization.\n",
      "*   **Simpler Model Architecture:** Sometimes, a simpler model with fewer parameters generalizes better than an overly complex one, especially with limited or noisy data.\n",
      "*   **Feature Engineering (if applicable):** If you're not using end-to-end deep learning, carefully engineered features that are robust to real-world variations can significantly help.\n",
      "\n",
      "### 3. Evaluation-Centric Solutions\n",
      "\n",
      "*   **Create a Representative Test Set:** Ensure your test set accurately reflects the diversity and challenges of your real-world application. It should include images from the \"problematic\" conditions where your model currently fails. This is crucial for reliable evaluation.\n",
      "*   **Perform Error Analysis:** Don't just look at overall accuracy. Systematically analyze the specific types of images and conditions where your model fails in the real world. This will provide invaluable insights to guide your data collection, augmentation, and model improvement efforts.\n",
      "*   **Cross-Validation:** Use k-fold cross-validation during development to get a more robust estimate of your model's performance and generalization ability across different data splits.\n",
      "\n",
      "---\n",
      "\n",
      "**To give you more specific and tailored advice, could you tell me a bit more about:**\n",
      "\n",
      "*   **What kind of images are you working with?** (e.g., medical scans, industrial parts, natural scenes, faces, satellite imagery)\n",
      "*   **What is the specific task?** (e.g., image classification, object detection, semantic segmentation, anomaly detection)\n",
      "*   **What are the typical differences you've observed between your training data and the real-world images?** (e.g., \"real-world images are much darker,\" \"objects are often partially obscured,\" \"different camera angles\")\n",
      "*   **What model architecture are you currently using?**\n",
      "\n",
      "Output from node 'decide':\n"
     ]
    },
    {
     "ename": "KeyError",
     "evalue": "'decide'",
     "output_type": "error",
     "traceback": [
      "\u001b[1;31m---------------------------------------------------------------------------\u001b[0m",
      "\u001b[1;31mKeyError\u001b[0m                                  Traceback (most recent call last)",
      "Cell \u001b[1;32mIn[11], line 18\u001b[0m\n\u001b[0;32m     16\u001b[0m     \u001b[38;5;28mprint\u001b[39m()\n\u001b[0;32m     17\u001b[0m \u001b[38;5;28;01melif\u001b[39;00m node \u001b[38;5;241m==\u001b[39m \u001b[38;5;124m\"\u001b[39m\u001b[38;5;124mdecide\u001b[39m\u001b[38;5;124m\"\u001b[39m:\n\u001b[1;32m---> 18\u001b[0m     \u001b[38;5;28mprint\u001b[39m(\u001b[43mstate\u001b[49m\u001b[43m[\u001b[49m\u001b[38;5;124;43m\"\u001b[39;49m\u001b[38;5;124;43mdecide\u001b[39;49m\u001b[38;5;124;43m\"\u001b[39;49m\u001b[43m]\u001b[49m)\n\u001b[0;32m     19\u001b[0m     \u001b[38;5;28mprint\u001b[39m()\n",
      "\u001b[1;31mKeyError\u001b[0m: 'decide'"
     ]
    }
   ],
   "source": [
    "inputs = {\"query\": \"Why the image classifier have high accuracy but it fail to fulfill my expectation in classifying image. Please state in concise.\"}\n",
    "\n",
    "for output in app.stream(inputs):\n",
    "    for node, state in output.items():\n",
    "        print(f\"Output from node '{node}':\")\n",
    "\n",
    "        if node == \"generate\":\n",
    "            print(state[\"query\"])\n",
    "            print(state[\"answer\"])\n",
    "            print()\n",
    "        elif node == \"reflect\":\n",
    "            print(state[\"critique\"])\n",
    "            print()\n",
    "        elif node == \"refine\":\n",
    "            print(state[\"refined\"])\n",
    "            print()\n",
    "        elif node == \"decide\":\n",
    "            print(state[\"decision\"])\n",
    "            print()"
   ]
  },
  {
   "cell_type": "code",
   "execution_count": null,
   "id": "cc08285f",
   "metadata": {},
   "outputs": [
    {
     "data": {
      "image/png": "[encoded data removed]",
      "text/plain": [
       "<IPython.core.display.Image object>"
      ]
     },
     "execution_count": 11,
     "metadata": {},
     "output_type": "execute_result"
    }
   ],
   "source": [
    "from IPython.display import Image\n",
    "\n",
    "Image(app.get_graph().draw_mermaid_png())"
   ]
  },
  {
   "cell_type": "code",
   "execution_count": null,
   "id": "ea58915f",
   "metadata": {},
   "outputs": [],
   "source": []
  }
 ],
 "metadata": {
  "kernelspec": {
   "display_name": ".venv",
   "language": "python",
   "name": "python3"
  },
  "language_info": {
   "codemirror_mode": {
    "name": "ipython",
    "version": 3
   },
   "file_extension": ".py",
   "mimetype": "text/x-python",
   "name": "python",
   "nbconvert_exporter": "python",
   "pygments_lexer": "ipython3",
   "version": "3.10.11"
  }
 },
 "nbformat": 4,
 "nbformat_minor": 5
}
