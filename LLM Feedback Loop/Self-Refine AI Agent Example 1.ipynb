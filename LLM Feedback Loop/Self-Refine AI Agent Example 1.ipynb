{
 "cells": [
  {
   "cell_type": "code",
   "execution_count": 1,
   "id": "d2b3506a",
   "metadata": {},
   "outputs": [],
   "source": [
    "# !uv pip install langchain langgraph requests langchain-google-genai pygraphviz"
   ]
  },
  {
   "cell_type": "markdown",
   "id": "c6ebdf37",
   "metadata": {},
   "source": [
    "### Setup and Dependencies"
   ]
  },
  {
   "cell_type": "code",
   "execution_count": null,
   "id": "8dcb664e",
   "metadata": {},
   "outputs": [],
   "source": [
    "import os\n",
    "from typing import TypedDict, Optional\n",
    "import operator\n",
    "\n",
    "from langchain_google_genai import ChatGoogleGenerativeAI\n",
    "from langchain_core.prompts import ChatPromptTemplate\n",
    "\n",
    "from langgraph.graph import StateGraph, END\n",
    "\n",
    "# Set your Google API key (replace with your actual key or load from .env)\n",
    "os.environ[\"GOOGLE_API_KEY\"] = \"\"\n",
    "\n",
    "# Initialize the Gemini model we'll use for all nodes\n",
    "llm = ChatGoogleGenerativeAI(model=\"gemini-2.5-flash\", temperature=0)"
   ]
  },
  {
   "cell_type": "markdown",
   "id": "92037bb3",
   "metadata": {},
   "source": [
    "### Define AI Agent's State"
   ]
  },
  {
   "cell_type": "code",
   "execution_count": 3,
   "id": "43b713b8",
   "metadata": {},
   "outputs": [],
   "source": [
    "class AgentState(TypedDict, total=False):\n",
    "    query: str\n",
    "    answer: Optional[str]\n",
    "    critique: Optional[str]\n",
    "    refined: Optional[str]"
   ]
  },
  {
   "cell_type": "markdown",
   "id": "88023e74",
   "metadata": {},
   "source": [
    "### Define Prompts"
   ]
  },
  {
   "cell_type": "code",
   "execution_count": 4,
   "id": "1f17aeb1",
   "metadata": {},
   "outputs": [],
   "source": [
    "generate_prompt = ChatPromptTemplate.from_template(\n",
    "    \"You are a helpful assistant. Answer the following query:\\n\\n{query}\"\n",
    ")\n",
    "\n",
    "reflect_prompt = ChatPromptTemplate.from_template(\n",
    "    \"Here is the assistant's answer:\\n\\n{answer}\\n\\nPlease critique it and suggest improvements.\"\n",
    ")\n",
    "\n",
    "refine_prompt = ChatPromptTemplate.from_template(\n",
    "    \"Original answer:\\n{answer}\\n\\nCritique:\\n{critique}\\n\\nPlease provide a refined, improved answer.\"\n",
    ")\n",
    "\n",
    "# Chains together\n",
    "generate_chain = generate_prompt | llm\n",
    "reflect_chain = reflect_prompt | llm\n",
    "refine_chain = refine_prompt | llm"
   ]
  },
  {
   "cell_type": "markdown",
   "id": "4abb9cf8",
   "metadata": {},
   "source": [
    "### Define Node Function"
   ]
  },
  {
   "cell_type": "code",
   "execution_count": 5,
   "id": "e66c0cc9",
   "metadata": {},
   "outputs": [],
   "source": [
    "def generate_node(state: AgentState):\n",
    "    result = generate_chain.invoke({\"query\": state[\"query\"]})\n",
    "    state[\"answer\"] = result.content\n",
    "    return state\n",
    "\n",
    "def reflect_node(state: AgentState):\n",
    "    result = reflect_chain.invoke({\"answer\": state[\"answer\"]})\n",
    "    state[\"critique\"] = result.content\n",
    "    return state\n",
    "\n",
    "def refine_node(state: AgentState):\n",
    "    result = refine_chain.invoke({\n",
    "        \"answer\": state[\"answer\"],\n",
    "        \"critique\": state[\"critique\"]\n",
    "    })\n",
    "    state[\"refined\"] = result.content\n",
    "    return state"
   ]
  },
  {
   "cell_type": "markdown",
   "id": "e7d7082f",
   "metadata": {},
   "source": [
    "### Build Graph"
   ]
  },
  {
   "cell_type": "code",
   "execution_count": 6,
   "id": "ea6ab960",
   "metadata": {},
   "outputs": [],
   "source": [
    "graph = StateGraph(AgentState)\n",
    "\n",
    "# Add Node\n",
    "graph.add_node(\"generate\", generate_node)\n",
    "graph.add_node(\"reflect\", reflect_node)\n",
    "graph.add_node(\"refine\", refine_node)\n",
    "\n",
    "# Set Entry Node\n",
    "graph.set_entry_point(\"generate\")\n",
    "\n",
    "# Connect Node (Add a Arrow to connect A Node and B Node)\n",
    "## \"Generate\" --> \"Reflect\"\n",
    "graph.add_edge(\"generate\", \"reflect\")\n",
    "## \"Reflect\" --> \"Refine\"\n",
    "graph.add_edge(\"reflect\", \"refine\")\n",
    "## \"Refine\" --> \"END\"\n",
    "graph.add_edge(\"refine\", END)\n",
    "\n",
    "# Compile\n",
    "app = graph.compile()"
   ]
  },
  {
   "cell_type": "markdown",
   "id": "94859c56",
   "metadata": {},
   "source": [
    "### Run Agent"
   ]
  },
  {
   "cell_type": "code",
   "execution_count": 12,
   "id": "7831c601",
   "metadata": {},
   "outputs": [
    {
     "name": "stdout",
     "output_type": "stream",
     "text": [
      "Output from node 'generate':\n",
      "Tell me what is stochastic gradient descent in 2 sentences\n",
      "Stochastic Gradient Descent (SGD) is an optimization algorithm that estimates the gradient of the loss function using a *single randomly selected training example* at each step, rather than the entire dataset. This makes it computationally efficient for very large datasets, as it provides frequent updates and can help escape local minima, albeit with noisier and less stable parameter adjustments.\n",
      "\n",
      "Output from node 'reflect':\n",
      "The current answer is good, but it has one significant point of inaccuracy/misleading information regarding the \"single randomly selected training example\" and could benefit from more context and a clearer distinction between the theoretical definition and practical usage.\n",
      "\n",
      "Here's a critique and suggested improvements:\n",
      "\n",
      "---\n",
      "\n",
      "### Critique of the Original Answer:\n",
      "\n",
      "1.  **\"Single randomly selected training example\"**: This is the most critical point. While the *purest, original definition* of SGD indeed refers to using a single example, in modern machine learning practice, when people say \"SGD,\" they almost universally mean **mini-batch SGD**. Using a single example is rare in practice because it's too noisy and doesn't leverage vectorized operations efficiently. This statement, without qualification, is misleading for practical understanding.\n",
      "2.  **Lack of comparison/context**: It mentions \"rather than the entire dataset,\" which hints at Batch Gradient Descent, but doesn't explicitly name it or Mini-Batch Gradient Descent, which is the common practical variant.\n",
      "3.  **\"Can help escape local minima\"**: This is true, but the *reason* (the noise) could be more explicitly linked.\n",
      "4.  **\"Noisier and less stable parameter adjustments\"**: Also true, but could be elaborated slightly on the implications (e.g., oscillations, need for careful learning rate tuning).\n",
      "\n",
      "---\n",
      "\n",
      "### Suggested Improved Answer:\n",
      "\n",
      "Here's a revised version incorporating these improvements:\n",
      "\n",
      "---\n",
      "\n",
      "**Stochastic Gradient Descent (SGD)** is an optimization algorithm that, at each step, estimates the gradient of the loss function using a **randomly selected subset of the training data, known as a mini-batch**.\n",
      "\n",
      "While the purest, original definition of SGD refers to using a *single* training example, in modern machine learning practice, the term 'SGD' almost universally refers to **mini-batch SGD**.\n",
      "\n",
      "This 'stochastic' (random) approach contrasts with **Batch Gradient Descent**, which computes the gradient using the entire dataset. SGD's use of smaller data subsets leads to much more frequent updates, making it:\n",
      "\n",
      "1.  **Computationally efficient and scalable:** Especially for very large datasets, as it avoids processing the entire dataset for each update.\n",
      "2.  **Faster initial convergence:** Parameters are updated more frequently.\n",
      "3.  **Better at escaping local minima:** The inherent noise introduced by these frequent, partial updates can be beneficial, helping the optimization process escape shallow local minima and saddle points, and explore the loss landscape more effectively.\n",
      "\n",
      "However, these updates are indeed **noisier and less stable** than those from Batch Gradient Descent, often leading to more oscillations during convergence and requiring careful tuning of the learning rate.\n",
      "\n",
      "---\n",
      "\n",
      "### Summary of Changes and Why They Improve the Answer:\n",
      "\n",
      "*   **Clarifies \"single example\" vs. \"mini-batch\"**: Directly addresses the most common practical usage of SGD, while still acknowledging the original definition. This is crucial for accuracy in a modern ML context.\n",
      "*   **Introduces \"mini-batch\" explicitly**: Defines the term that is central to practical SGD.\n",
      "*   **Adds comparison to Batch Gradient Descent**: Provides context for why SGD is \"stochastic\" and highlights its advantages.\n",
      "*   **Structures benefits and drawbacks**: Uses bullet points for clarity on the advantages.\n",
      "*   **Elaborates on \"escaping local minima\"**: Explains *why* the noise helps.\n",
      "*   **Expands on \"noisier and less stable\"**: Mentions oscillations and the need for learning rate tuning, giving more practical insight.\n",
      "\n",
      "Output from node 'refine':\n",
      "**Stochastic Gradient Descent (SGD)** is an optimization algorithm that, at each step, estimates the gradient of the loss function using a **randomly selected subset of the training data, known as a mini-batch**.\n",
      "\n",
      "While the purest, original definition of SGD refers to using a *single* training example, in modern machine learning practice, the term 'SGD' almost universally refers to **mini-batch SGD**.\n",
      "\n",
      "This 'stochastic' (random) approach contrasts with **Batch Gradient Descent**, which computes the gradient using the entire dataset. SGD's use of smaller data subsets leads to much more frequent updates, making it:\n",
      "\n",
      "1.  **Computationally efficient and scalable:** Especially for very large datasets, as it avoids processing the entire dataset for each update.\n",
      "2.  **Faster initial convergence:** Parameters are updated more frequently.\n",
      "3.  **Better at escaping local minima:** The inherent noise introduced by these frequent, partial updates can be beneficial, helping the optimization process escape shallow local minima and saddle points, and explore the loss landscape more effectively.\n",
      "\n",
      "However, these updates are indeed **noisier and less stable** than those from Batch Gradient Descent, often leading to more oscillations during convergence and requiring careful tuning of the learning rate.\n",
      "\n"
     ]
    }
   ],
   "source": [
    "inputs = {\"query\": \"Tell me what is stochastic gradient descent in 2 sentences\"}\n",
    "\n",
    "for output in app.stream(inputs):\n",
    "    for node, state in output.items():\n",
    "        print(f\"Output from node '{node}':\")\n",
    "\n",
    "        if node == \"generate\":\n",
    "            print(state[\"query\"])\n",
    "            print(state[\"answer\"])\n",
    "            print()\n",
    "        elif node == \"reflect\":\n",
    "            print(state[\"critique\"])\n",
    "            print()\n",
    "        elif node == \"refine\":\n",
    "            print(state[\"refined\"])\n",
    "            print()"
   ]
  },
  {
   "cell_type": "code",
   "execution_count": 11,
   "id": "cc08285f",
   "metadata": {},
   "outputs": [
    {
     "data": {
      "image/png": "[encoded data removed]",
      "text/plain": [
       "<IPython.core.display.Image object>"
      ]
     },
     "execution_count": 11,
     "metadata": {},
     "output_type": "execute_result"
    }
   ],
   "source": [
    "from IPython.display import Image\n",
    "\n",
    "Image(app.get_graph().draw_mermaid_png())"
   ]
  },
  {
   "cell_type": "code",
   "execution_count": null,
   "id": "ea58915f",
   "metadata": {},
   "outputs": [],
   "source": []
  }
 ],
 "metadata": {
  "kernelspec": {
   "display_name": ".venv",
   "language": "python",
   "name": "python3"
  },
  "language_info": {
   "codemirror_mode": {
    "name": "ipython",
    "version": 3
   },
   "file_extension": ".py",
   "mimetype": "text/x-python",
   "name": "python",
   "nbconvert_exporter": "python",
   "pygments_lexer": "ipython3",
   "version": "3.10.11"
  }
 },
 "nbformat": 4,
 "nbformat_minor": 5
}
